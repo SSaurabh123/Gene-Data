{
 "cells": [
  {
   "cell_type": "code",
   "execution_count": null,
   "metadata": {
    "collapsed": true
   },
   "outputs": [],
   "source": [
    "import numpy as np \n",
    "import pandas as pd \n",
    "import matplotlib as mpl\n",
    "import matplotlib.pyplot as plt\n",
    "import seaborn as sns\n",
    "from sklearn.preprocessing import StandardScaler\n",
    "from sklearn.decomposition import PCA\n",
    "%matplotlib inline\n",
    "\n",
    "def perform_task(df_data,df_meta):\n",
    "    if df_data.empty or df_meta.empty:\n",
    "        print('Cannot perform pca')\n",
    "    df_data = df_data.fillna(value=0, axis=1)\n",
    "    df_data = df_data.T\n",
    "    new_header = df_data.iloc[0]\n",
    "    df_data = df_data[1:] \n",
    "    df_data.columns = new_header\n",
    "    df_meta[\"Time-Unit\"] = df_meta[\"Time\"].map(str) + df_meta[\"Unit\"]\n",
    "    x = StandardScaler().fit_transform(df_data)   \n",
    "    pca = PCA(n_components=2)\n",
    "    principalComponents = pca.fit_transform(x)\n",
    "    principalDf = pd.DataFrame(data = principalComponents\n",
    "                 , columns = ['principal component 1', 'principal component 2'])\n",
    "    finalDf = pd.concat([principalDf, df_meta[['Time-Unit']]], axis = 1)\n",
    "    sns.set(color_codes=True)\n",
    "    sns.lmplot( x=\"principal component 1\", y=\"principal component 2\",\n",
    "    data=finalDf, \n",
    "    fit_reg=False, \n",
    "    hue='Time-Unit',\n",
    "    legend=True,\n",
    "    scatter_kws={\"s\": 80})"
   ]
  },
  {
   "cell_type": "code",
   "execution_count": null,
   "metadata": {},
   "outputs": [],
   "source": []
  },
  {
   "cell_type": "code",
   "execution_count": null,
   "metadata": {
    "collapsed": true
   },
   "outputs": [],
   "source": []
  }
 ],
 "metadata": {
  "kernelspec": {
   "display_name": "Python 3",
   "language": "python",
   "name": "python3"
  },
  "language_info": {
   "codemirror_mode": {
    "name": "ipython",
    "version": 3
   },
   "file_extension": ".py",
   "mimetype": "text/x-python",
   "name": "python",
   "nbconvert_exporter": "python",
   "pygments_lexer": "ipython3",
   "version": "3.6.3"
  }
 },
 "nbformat": 4,
 "nbformat_minor": 2
}
